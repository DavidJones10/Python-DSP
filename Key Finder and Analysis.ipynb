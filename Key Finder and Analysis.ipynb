{
 "cells": [
  {
   "cell_type": "code",
   "execution_count": 2,
   "id": "d4ebe88d",
   "metadata": {},
   "outputs": [],
   "source": [
    "import soundfile as sf\n",
    "import math\n",
    "import numpy as np\n",
    "import librosa as lb\n",
    "from IPython.display import Audio\n",
    "from librosa import feature, frames_to_time, autocorrelate, midi_to_hz\n",
    "import pandas as pd\n"
   ]
  },
  {
   "cell_type": "code",
   "execution_count": 63,
   "id": "24c12421",
   "metadata": {},
   "outputs": [],
   "source": [
    "x, fsx = lb.load('../uploaded_audio/Radiohead_track3.wav', sr=22050)"
   ]
  },
  {
   "cell_type": "code",
   "execution_count": 64,
   "id": "60d971d1",
   "metadata": {},
   "outputs": [
    {
     "data": {
      "text/plain": [
       "'c'"
      ]
     },
     "execution_count": 64,
     "metadata": {},
     "output_type": "execute_result"
    }
   ],
   "source": [
    "def getKey(audio, nfft=4096, fs=22050):\n",
    "    # this function gets the most likely key of an array by taking a chromagram of the values and finding \n",
    "    #   the major or minor key to which it is most correlated\n",
    "    \n",
    "    # Parameters:\n",
    "    #   audio- array_like\n",
    "    #          array of values to be analyzed\n",
    "    #   nfft- int, optional\n",
    "    #         Size for Fast Fourier Transform in the chromagram function from librosa.Defaults to 4096 (large fft size)\n",
    "    #   fs-   int, optional\n",
    "    #         sample rate. Defaults to 22050  \n",
    "    import operator\n",
    "    normalized = audio / abs(np.max(audio)) # normalize audio file\n",
    "    \n",
    "    chromagram = feature.chroma_stft(normalized, n_fft = nfft, hop_length = int(nfft/4), sr = fs) # makes a chromagram \n",
    "    chromagram = chromagram.mean(axis=1) # averages the chromagram\n",
    "    \n",
    "    major_0 = np.array([6.35,2.23,3.48,2.33,4.38,4.09,2.52,5.19,2.39,3.66,2.29,2.88]) #C Major #values: C,C#,D,D#,...B\n",
    "    minor_0 = np.array([6.33,2.68,3.52,5.38,2.60,3.53,2.54,4.75,3.98,2.69,3.34,3.17]) #C Minor #values: C,C#,D,D#,...B\n",
    "    \n",
    "    arraysDict = {}\n",
    "    for i in range(0,12):\n",
    "        arraysDict['major_{0}'.format(i)] = np.roll(major_0,i)# iteratively create each label while rotating for both\n",
    "        arraysDict['minor_{0}'.format(i)] = np.roll(minor_0,i)#   major and minor keys\n",
    "    \n",
    "    # Dictionary below takes arrayDict and assigns the key type/number a note name\n",
    "    keyTypeToName = {'major_0' : 'C', 'minor_0' : 'c', 'major_1' : 'C#/Db', 'minor_1' : 'c#/db'\n",
    "    , 'major_2' : 'D', 'minor_2' : 'd', 'major_3' : 'D#/Eb', 'minor_3' : 'd#/eb', 'major_4' : 'E', 'minor_4' : 'e'\n",
    "    , 'major_5' : 'F', 'minor_5' : 'f', 'major_6' : 'F#/Gb', 'minor_6' : 'f#/gb', 'major_7' : 'G', 'minor_7' : 'g'\n",
    "    , 'major_8' : 'G#/Ab', 'minor_8' : 'g#/ab', 'major_9' : 'A', 'minor_9' : 'a', 'major_10' : 'A#/Bb'\n",
    "    , 'minor_10' : 'a#/bb', 'major_11' : 'B', 'minor_11' : 'b'}\n",
    "    \n",
    "    finalDict = {} # dictionary of possible key profiles\n",
    "    for key, value in arraysDict.items():\n",
    "        relate = np.corrcoef([chromagram,value]) # compare chromagram to Krumhansl and Kessler key profiles\n",
    "        finalDict[key] = relate[0][1] # add correletion coefficient to dictionary of possible key profiles\n",
    "    \n",
    "    maxChecker = max(finalDict.items(), key = operator.itemgetter(1)) # find maximum correlation coefficient\n",
    "    guessKeyType = maxChecker[0] # get maximum correlation coefficient's key type/number\n",
    "    guessKeyName = keyTypeToName[guessKeyType] # convert key type/number to key name using keyTypeToName dictionary\n",
    "    return guessKeyName # return most correlated key                    \n",
    "getKey(x, fs = fsx)"
   ]
  },
  {
   "cell_type": "code",
   "execution_count": 51,
   "id": "60a11ad2",
   "metadata": {},
   "outputs": [
    {
     "name": "stdout",
     "output_type": "stream",
     "text": [
      "1\n",
      "2\n",
      "3\n",
      "4\n",
      "5\n",
      "6\n",
      "7\n"
     ]
    },
    {
     "name": "stderr",
     "output_type": "stream",
     "text": [
      "/Users/davidjones/AudioTech2/at2venv/lib/python3.9/site-packages/librosa/core/audio.py:165: UserWarning: PySoundFile failed. Trying audioread instead.\n",
      "  warnings.warn(\"PySoundFile failed. Trying audioread instead.\")\n"
     ]
    },
    {
     "name": "stdout",
     "output_type": "stream",
     "text": [
      "8\n",
      "9\n",
      "10\n",
      "11\n",
      "12\n",
      "13\n",
      "14\n",
      "15\n",
      "16\n",
      "17\n",
      "18\n",
      "19\n",
      "20\n",
      "21\n",
      "22\n",
      "23\n",
      "24\n",
      "25\n",
      "26\n",
      "27\n",
      "28\n",
      "29\n",
      "30\n",
      "31\n",
      "32\n",
      "33\n"
     ]
    },
    {
     "name": "stderr",
     "output_type": "stream",
     "text": [
      "/Users/davidjones/AudioTech2/at2venv/lib/python3.9/site-packages/librosa/core/audio.py:165: UserWarning: PySoundFile failed. Trying audioread instead.\n",
      "  warnings.warn(\"PySoundFile failed. Trying audioread instead.\")\n"
     ]
    },
    {
     "name": "stdout",
     "output_type": "stream",
     "text": [
      "34\n",
      "35\n",
      "36\n",
      "37\n",
      "38\n",
      "39\n",
      "40\n",
      "41\n",
      "42\n",
      "43\n",
      "44\n",
      "45\n",
      "46\n",
      "47\n",
      "48\n",
      "49\n",
      "50\n"
     ]
    },
    {
     "name": "stderr",
     "output_type": "stream",
     "text": [
      "/Users/davidjones/AudioTech2/at2venv/lib/python3.9/site-packages/librosa/core/audio.py:165: UserWarning: PySoundFile failed. Trying audioread instead.\n",
      "  warnings.warn(\"PySoundFile failed. Trying audioread instead.\")\n"
     ]
    },
    {
     "name": "stdout",
     "output_type": "stream",
     "text": [
      "51\n",
      "52\n",
      "53\n",
      "54\n",
      "55\n"
     ]
    },
    {
     "name": "stderr",
     "output_type": "stream",
     "text": [
      "/Users/davidjones/AudioTech2/at2venv/lib/python3.9/site-packages/librosa/core/audio.py:165: UserWarning: PySoundFile failed. Trying audioread instead.\n",
      "  warnings.warn(\"PySoundFile failed. Trying audioread instead.\")\n"
     ]
    },
    {
     "name": "stdout",
     "output_type": "stream",
     "text": [
      "56\n",
      "57\n",
      "58\n",
      "59\n",
      "60\n"
     ]
    },
    {
     "name": "stderr",
     "output_type": "stream",
     "text": [
      "/Users/davidjones/AudioTech2/at2venv/lib/python3.9/site-packages/librosa/core/audio.py:165: UserWarning: PySoundFile failed. Trying audioread instead.\n",
      "  warnings.warn(\"PySoundFile failed. Trying audioread instead.\")\n"
     ]
    },
    {
     "name": "stdout",
     "output_type": "stream",
     "text": [
      "61\n",
      "62\n"
     ]
    },
    {
     "name": "stderr",
     "output_type": "stream",
     "text": [
      "/Users/davidjones/AudioTech2/at2venv/lib/python3.9/site-packages/librosa/core/audio.py:165: UserWarning: PySoundFile failed. Trying audioread instead.\n",
      "  warnings.warn(\"PySoundFile failed. Trying audioread instead.\")\n"
     ]
    },
    {
     "name": "stdout",
     "output_type": "stream",
     "text": [
      "63\n",
      "64\n",
      "65\n",
      "66\n",
      "67\n",
      "68\n",
      "\n",
      "68\n",
      "69\n",
      "70\n"
     ]
    },
    {
     "name": "stderr",
     "output_type": "stream",
     "text": [
      "/Users/davidjones/AudioTech2/at2venv/lib/python3.9/site-packages/librosa/core/audio.py:165: UserWarning: PySoundFile failed. Trying audioread instead.\n",
      "  warnings.warn(\"PySoundFile failed. Trying audioread instead.\")\n"
     ]
    },
    {
     "name": "stdout",
     "output_type": "stream",
     "text": [
      "71\n",
      "72\n",
      "73\n",
      "74\n",
      "75\n",
      "76\n",
      "77\n",
      "78\n",
      "79\n",
      "80\n",
      "81\n"
     ]
    },
    {
     "name": "stderr",
     "output_type": "stream",
     "text": [
      "/Users/davidjones/AudioTech2/at2venv/lib/python3.9/site-packages/librosa/core/audio.py:165: UserWarning: PySoundFile failed. Trying audioread instead.\n",
      "  warnings.warn(\"PySoundFile failed. Trying audioread instead.\")\n"
     ]
    },
    {
     "name": "stdout",
     "output_type": "stream",
     "text": [
      "82\n",
      "83\n",
      "84\n",
      "85\n",
      "86\n",
      "87\n",
      "88\n",
      "89\n",
      "90\n",
      "91\n",
      "92\n",
      "93\n",
      "94\n",
      "95\n",
      "96\n"
     ]
    },
    {
     "name": "stderr",
     "output_type": "stream",
     "text": [
      "/Users/davidjones/AudioTech2/at2venv/lib/python3.9/site-packages/librosa/core/audio.py:165: UserWarning: PySoundFile failed. Trying audioread instead.\n",
      "  warnings.warn(\"PySoundFile failed. Trying audioread instead.\")\n"
     ]
    },
    {
     "name": "stdout",
     "output_type": "stream",
     "text": [
      "97\n",
      "98\n",
      "99\n",
      "100\n",
      "101\n",
      "102\n",
      "103\n",
      "104\n",
      "105\n",
      "106\n"
     ]
    },
    {
     "name": "stderr",
     "output_type": "stream",
     "text": [
      "/Users/davidjones/AudioTech2/at2venv/lib/python3.9/site-packages/librosa/core/audio.py:165: UserWarning: PySoundFile failed. Trying audioread instead.\n",
      "  warnings.warn(\"PySoundFile failed. Trying audioread instead.\")\n"
     ]
    },
    {
     "name": "stdout",
     "output_type": "stream",
     "text": [
      "107\n",
      "108\n",
      "109\n"
     ]
    },
    {
     "name": "stderr",
     "output_type": "stream",
     "text": [
      "/Users/davidjones/AudioTech2/at2venv/lib/python3.9/site-packages/librosa/core/audio.py:165: UserWarning: PySoundFile failed. Trying audioread instead.\n",
      "  warnings.warn(\"PySoundFile failed. Trying audioread instead.\")\n",
      "/Users/davidjones/AudioTech2/at2venv/lib/python3.9/site-packages/librosa/core/audio.py:165: UserWarning: PySoundFile failed. Trying audioread instead.\n",
      "  warnings.warn(\"PySoundFile failed. Trying audioread instead.\")\n"
     ]
    },
    {
     "name": "stdout",
     "output_type": "stream",
     "text": [
      "110\n",
      "111\n",
      "112\n",
      "113\n",
      "114\n",
      "115\n",
      "116\n",
      "117\n",
      "118\n",
      "119\n",
      "120\n",
      "121\n",
      "122\n",
      "123\n",
      "124\n",
      "125\n"
     ]
    },
    {
     "name": "stderr",
     "output_type": "stream",
     "text": [
      "/Users/davidjones/AudioTech2/at2venv/lib/python3.9/site-packages/librosa/core/audio.py:165: UserWarning: PySoundFile failed. Trying audioread instead.\n",
      "  warnings.warn(\"PySoundFile failed. Trying audioread instead.\")\n"
     ]
    },
    {
     "name": "stdout",
     "output_type": "stream",
     "text": [
      "126\n",
      "127\n",
      "128\n",
      "129\n"
     ]
    },
    {
     "name": "stderr",
     "output_type": "stream",
     "text": [
      "/Users/davidjones/AudioTech2/at2venv/lib/python3.9/site-packages/librosa/core/audio.py:165: UserWarning: PySoundFile failed. Trying audioread instead.\n",
      "  warnings.warn(\"PySoundFile failed. Trying audioread instead.\")\n"
     ]
    },
    {
     "name": "stdout",
     "output_type": "stream",
     "text": [
      "130\n",
      "131\n",
      "132\n",
      "133\n",
      "134\n",
      "135\n",
      "136\n",
      "137\n"
     ]
    },
    {
     "name": "stderr",
     "output_type": "stream",
     "text": [
      "/Users/davidjones/AudioTech2/at2venv/lib/python3.9/site-packages/librosa/core/audio.py:165: UserWarning: PySoundFile failed. Trying audioread instead.\n",
      "  warnings.warn(\"PySoundFile failed. Trying audioread instead.\")\n"
     ]
    },
    {
     "name": "stdout",
     "output_type": "stream",
     "text": [
      "138\n"
     ]
    },
    {
     "name": "stderr",
     "output_type": "stream",
     "text": [
      "/Users/davidjones/AudioTech2/at2venv/lib/python3.9/site-packages/librosa/core/audio.py:165: UserWarning: PySoundFile failed. Trying audioread instead.\n",
      "  warnings.warn(\"PySoundFile failed. Trying audioread instead.\")\n"
     ]
    },
    {
     "name": "stdout",
     "output_type": "stream",
     "text": [
      "139\n",
      "140\n"
     ]
    },
    {
     "name": "stderr",
     "output_type": "stream",
     "text": [
      "/Users/davidjones/AudioTech2/at2venv/lib/python3.9/site-packages/librosa/core/audio.py:165: UserWarning: PySoundFile failed. Trying audioread instead.\n",
      "  warnings.warn(\"PySoundFile failed. Trying audioread instead.\")\n"
     ]
    },
    {
     "name": "stdout",
     "output_type": "stream",
     "text": [
      "141\n",
      "142\n",
      "143\n"
     ]
    },
    {
     "name": "stderr",
     "output_type": "stream",
     "text": [
      "/Users/davidjones/AudioTech2/at2venv/lib/python3.9/site-packages/librosa/core/audio.py:165: UserWarning: PySoundFile failed. Trying audioread instead.\n",
      "  warnings.warn(\"PySoundFile failed. Trying audioread instead.\")\n"
     ]
    },
    {
     "name": "stdout",
     "output_type": "stream",
     "text": [
      "144\n",
      "145\n",
      "146\n",
      "147\n",
      "148\n",
      "149\n",
      "150\n",
      "151\n",
      "152\n",
      "153\n",
      "154\n",
      "155\n",
      "156\n",
      "157\n",
      "158\n"
     ]
    },
    {
     "name": "stderr",
     "output_type": "stream",
     "text": [
      "/Users/davidjones/AudioTech2/at2venv/lib/python3.9/site-packages/librosa/core/audio.py:165: UserWarning: PySoundFile failed. Trying audioread instead.\n",
      "  warnings.warn(\"PySoundFile failed. Trying audioread instead.\")\n"
     ]
    },
    {
     "name": "stdout",
     "output_type": "stream",
     "text": [
      "159\n",
      "160\n",
      "161\n"
     ]
    },
    {
     "name": "stderr",
     "output_type": "stream",
     "text": [
      "/Users/davidjones/AudioTech2/at2venv/lib/python3.9/site-packages/librosa/core/audio.py:165: UserWarning: PySoundFile failed. Trying audioread instead.\n",
      "  warnings.warn(\"PySoundFile failed. Trying audioread instead.\")\n"
     ]
    },
    {
     "name": "stdout",
     "output_type": "stream",
     "text": [
      "162\n"
     ]
    },
    {
     "name": "stderr",
     "output_type": "stream",
     "text": [
      "/Users/davidjones/AudioTech2/at2venv/lib/python3.9/site-packages/librosa/core/audio.py:165: UserWarning: PySoundFile failed. Trying audioread instead.\n",
      "  warnings.warn(\"PySoundFile failed. Trying audioread instead.\")\n"
     ]
    },
    {
     "name": "stdout",
     "output_type": "stream",
     "text": [
      "163\n",
      "164\n"
     ]
    },
    {
     "name": "stderr",
     "output_type": "stream",
     "text": [
      "/Users/davidjones/AudioTech2/at2venv/lib/python3.9/site-packages/librosa/core/audio.py:165: UserWarning: PySoundFile failed. Trying audioread instead.\n",
      "  warnings.warn(\"PySoundFile failed. Trying audioread instead.\")\n"
     ]
    },
    {
     "name": "stdout",
     "output_type": "stream",
     "text": [
      "165\n",
      "166\n",
      "167\n"
     ]
    },
    {
     "name": "stderr",
     "output_type": "stream",
     "text": [
      "/Users/davidjones/AudioTech2/at2venv/lib/python3.9/site-packages/librosa/core/audio.py:165: UserWarning: PySoundFile failed. Trying audioread instead.\n",
      "  warnings.warn(\"PySoundFile failed. Trying audioread instead.\")\n"
     ]
    },
    {
     "name": "stdout",
     "output_type": "stream",
     "text": [
      "168\n",
      "169\n",
      "170\n",
      "171\n",
      "172\n",
      "173\n",
      "174\n",
      "175\n"
     ]
    },
    {
     "name": "stderr",
     "output_type": "stream",
     "text": [
      "/Users/davidjones/AudioTech2/at2venv/lib/python3.9/site-packages/librosa/core/audio.py:165: UserWarning: PySoundFile failed. Trying audioread instead.\n",
      "  warnings.warn(\"PySoundFile failed. Trying audioread instead.\")\n",
      "/Users/davidjones/AudioTech2/at2venv/lib/python3.9/site-packages/librosa/core/audio.py:165: UserWarning: PySoundFile failed. Trying audioread instead.\n",
      "  warnings.warn(\"PySoundFile failed. Trying audioread instead.\")\n"
     ]
    },
    {
     "name": "stdout",
     "output_type": "stream",
     "text": [
      "176\n"
     ]
    },
    {
     "name": "stderr",
     "output_type": "stream",
     "text": [
      "/Users/davidjones/AudioTech2/at2venv/lib/python3.9/site-packages/librosa/core/audio.py:165: UserWarning: PySoundFile failed. Trying audioread instead.\n",
      "  warnings.warn(\"PySoundFile failed. Trying audioread instead.\")\n"
     ]
    },
    {
     "name": "stdout",
     "output_type": "stream",
     "text": [
      "177\n",
      "178\n",
      "179\n",
      "180\n",
      "181\n",
      "182\n",
      "183\n",
      "184\n",
      "185\n",
      "186\n",
      "187\n",
      "188\n",
      "189\n",
      "190\n"
     ]
    },
    {
     "name": "stderr",
     "output_type": "stream",
     "text": [
      "/Users/davidjones/AudioTech2/at2venv/lib/python3.9/site-packages/librosa/core/audio.py:165: UserWarning: PySoundFile failed. Trying audioread instead.\n",
      "  warnings.warn(\"PySoundFile failed. Trying audioread instead.\")\n"
     ]
    },
    {
     "name": "stdout",
     "output_type": "stream",
     "text": [
      "191\n",
      "192\n",
      "193\n",
      "194\n",
      "195\n",
      "196\n"
     ]
    },
    {
     "name": "stderr",
     "output_type": "stream",
     "text": [
      "/Users/davidjones/AudioTech2/at2venv/lib/python3.9/site-packages/librosa/core/audio.py:165: UserWarning: PySoundFile failed. Trying audioread instead.\n",
      "  warnings.warn(\"PySoundFile failed. Trying audioread instead.\")\n"
     ]
    },
    {
     "name": "stdout",
     "output_type": "stream",
     "text": [
      "197\n",
      "198\n",
      "199\n"
     ]
    },
    {
     "name": "stderr",
     "output_type": "stream",
     "text": [
      "/Users/davidjones/AudioTech2/at2venv/lib/python3.9/site-packages/librosa/core/audio.py:165: UserWarning: PySoundFile failed. Trying audioread instead.\n",
      "  warnings.warn(\"PySoundFile failed. Trying audioread instead.\")\n"
     ]
    },
    {
     "name": "stdout",
     "output_type": "stream",
     "text": [
      "200\n",
      "201\n"
     ]
    },
    {
     "name": "stderr",
     "output_type": "stream",
     "text": [
      "/Users/davidjones/AudioTech2/at2venv/lib/python3.9/site-packages/librosa/core/audio.py:165: UserWarning: PySoundFile failed. Trying audioread instead.\n",
      "  warnings.warn(\"PySoundFile failed. Trying audioread instead.\")\n"
     ]
    },
    {
     "name": "stdout",
     "output_type": "stream",
     "text": [
      "202\n",
      "203\n",
      "204\n",
      "205\n",
      "206\n",
      "207\n",
      "208\n",
      "209\n",
      "210\n",
      "211\n",
      "212\n",
      "213\n",
      "214\n",
      "215\n",
      "216\n",
      "217\n",
      "218\n",
      "219\n",
      "220\n",
      "221\n",
      "222\n",
      "223\n"
     ]
    },
    {
     "name": "stderr",
     "output_type": "stream",
     "text": [
      "/Users/davidjones/AudioTech2/at2venv/lib/python3.9/site-packages/librosa/core/audio.py:165: UserWarning: PySoundFile failed. Trying audioread instead.\n",
      "  warnings.warn(\"PySoundFile failed. Trying audioread instead.\")\n"
     ]
    },
    {
     "name": "stdout",
     "output_type": "stream",
     "text": [
      "224\n",
      "225\n",
      "226\n",
      "227\n",
      "228\n",
      "229\n",
      "230\n",
      "231\n",
      "232\n",
      "233\n"
     ]
    },
    {
     "name": "stderr",
     "output_type": "stream",
     "text": [
      "/Users/davidjones/AudioTech2/at2venv/lib/python3.9/site-packages/librosa/core/audio.py:165: UserWarning: PySoundFile failed. Trying audioread instead.\n",
      "  warnings.warn(\"PySoundFile failed. Trying audioread instead.\")\n"
     ]
    },
    {
     "name": "stdout",
     "output_type": "stream",
     "text": [
      "234\n",
      "235\n",
      "236\n",
      "237\n",
      "238\n"
     ]
    },
    {
     "name": "stderr",
     "output_type": "stream",
     "text": [
      "/Users/davidjones/AudioTech2/at2venv/lib/python3.9/site-packages/librosa/core/audio.py:165: UserWarning: PySoundFile failed. Trying audioread instead.\n",
      "  warnings.warn(\"PySoundFile failed. Trying audioread instead.\")\n"
     ]
    },
    {
     "name": "stdout",
     "output_type": "stream",
     "text": [
      "239\n",
      "240\n",
      "241\n",
      "242\n",
      "243\n",
      "244\n",
      "245\n",
      "246\n",
      "247\n",
      "248\n",
      "249\n",
      "250\n",
      "251\n",
      "252\n",
      "253\n",
      "254\n",
      "255\n",
      "256\n",
      "257\n",
      "258\n",
      "259\n",
      "260\n",
      "261\n",
      "262\n",
      "263\n",
      "264\n",
      "265\n",
      "266\n",
      "267\n",
      "268\n",
      "269\n",
      "270\n",
      "271\n",
      "272\n",
      "273\n",
      "274\n",
      "275\n",
      "276\n"
     ]
    },
    {
     "name": "stderr",
     "output_type": "stream",
     "text": [
      "/Users/davidjones/AudioTech2/at2venv/lib/python3.9/site-packages/librosa/core/audio.py:165: UserWarning: PySoundFile failed. Trying audioread instead.\n",
      "  warnings.warn(\"PySoundFile failed. Trying audioread instead.\")\n"
     ]
    },
    {
     "name": "stdout",
     "output_type": "stream",
     "text": [
      "277\n",
      "278\n",
      "279\n",
      "280\n",
      "281\n",
      "282\n",
      "283\n",
      "284\n",
      "285\n",
      "286\n",
      "287\n",
      "288\n",
      "289\n",
      "290\n",
      "291\n",
      "292\n",
      "293\n",
      "294\n",
      "295\n",
      "296\n",
      "297\n"
     ]
    },
    {
     "name": "stderr",
     "output_type": "stream",
     "text": [
      "/Users/davidjones/AudioTech2/at2venv/lib/python3.9/site-packages/librosa/core/audio.py:165: UserWarning: PySoundFile failed. Trying audioread instead.\n",
      "  warnings.warn(\"PySoundFile failed. Trying audioread instead.\")\n"
     ]
    },
    {
     "name": "stdout",
     "output_type": "stream",
     "text": [
      "298\n",
      "299\n",
      "300\n",
      "301\n",
      "302\n",
      "303\n",
      "304\n",
      "305\n",
      "306\n"
     ]
    },
    {
     "name": "stderr",
     "output_type": "stream",
     "text": [
      "/Users/davidjones/AudioTech2/at2venv/lib/python3.9/site-packages/librosa/core/audio.py:165: UserWarning: PySoundFile failed. Trying audioread instead.\n",
      "  warnings.warn(\"PySoundFile failed. Trying audioread instead.\")\n"
     ]
    },
    {
     "name": "stdout",
     "output_type": "stream",
     "text": [
      "307\n",
      "308\n"
     ]
    },
    {
     "name": "stderr",
     "output_type": "stream",
     "text": [
      "/Users/davidjones/AudioTech2/at2venv/lib/python3.9/site-packages/librosa/core/audio.py:165: UserWarning: PySoundFile failed. Trying audioread instead.\n",
      "  warnings.warn(\"PySoundFile failed. Trying audioread instead.\")\n"
     ]
    },
    {
     "name": "stdout",
     "output_type": "stream",
     "text": [
      "309\n",
      "310\n",
      "311\n",
      "312\n",
      "313\n",
      "314\n",
      "315\n",
      "316\n",
      "317\n",
      "318\n"
     ]
    },
    {
     "name": "stderr",
     "output_type": "stream",
     "text": [
      "/Users/davidjones/AudioTech2/at2venv/lib/python3.9/site-packages/librosa/core/audio.py:165: UserWarning: PySoundFile failed. Trying audioread instead.\n",
      "  warnings.warn(\"PySoundFile failed. Trying audioread instead.\")\n"
     ]
    },
    {
     "name": "stdout",
     "output_type": "stream",
     "text": [
      "319\n",
      "320\n",
      "321\n",
      "322\n",
      "323\n",
      "324\n",
      "325\n",
      "326\n",
      "327\n",
      "328\n",
      "329\n",
      "330\n"
     ]
    }
   ],
   "source": [
    "def getKeysFromFiles(directory, nfft=4096, fs=22050, percentOfSong = .25):\n",
    "    # this function iterates through a directory of files and gets the most correlated key\n",
    "    # Parameters:\n",
    "    #   audio- array_like\n",
    "    #          array of values to be analyzed\n",
    "    #   nfft- int, optional\n",
    "    #         Size for Fast Fourier Transform in the chromagram function from librosa.Defaults to 4096 (large fft size)\n",
    "    #   fs-   int, optional\n",
    "    #         sample rate. Defaults to 22050 \n",
    "    #   percentOfSong- float, optional\n",
    "    #         amount of each file to analyze in percentage. Defaults to 25% to save time\n",
    "    import os\n",
    "    dictOfKeys = {}\n",
    "    for root, dirs, files in os.walk(directory): # get files from directory\n",
    "        n = 0\n",
    "        for file in files: # iterate through each file in directory of files\n",
    "            try:\n",
    "                x, fsx = lb.load(directory + '/' + file, sr = fs) # load file\n",
    "                key = getKey(x[:int(x.size * percentOfSong)], nfft = nfft, fs = fsx) # get key using function from \n",
    "                dictOfKeys[file] = key # add key and filename to dictionary of keys   #  above\n",
    "                n+=1\n",
    "            except Exception as error: # handle any error that may come from reading the file\n",
    "                print(error) # print Exception to notify user of error\n",
    "            print(n) # print file number to track progress\n",
    "    return dictOfKeys # returns dictionary with filenames as keys and key type/name as items\n",
    "keys = getKeysFromFiles('../Keyfinding/KeyFinding_Audio/Audio') # run the function\n",
    "\n",
    "# Runtime: 15 minutes"
   ]
  },
  {
   "cell_type": "code",
   "execution_count": 50,
   "id": "7d0fe70d",
   "metadata": {},
   "outputs": [
    {
     "data": {
      "text/html": [
       "<div>\n",
       "<style scoped>\n",
       "    .dataframe tbody tr th:only-of-type {\n",
       "        vertical-align: middle;\n",
       "    }\n",
       "\n",
       "    .dataframe tbody tr th {\n",
       "        vertical-align: top;\n",
       "    }\n",
       "\n",
       "    .dataframe thead th {\n",
       "        text-align: right;\n",
       "    }\n",
       "</style>\n",
       "<table border=\"1\" class=\"dataframe\">\n",
       "  <thead>\n",
       "    <tr style=\"text-align: right;\">\n",
       "      <th></th>\n",
       "      <th>0</th>\n",
       "      <th>1</th>\n",
       "    </tr>\n",
       "  </thead>\n",
       "  <tbody>\n",
       "    <tr>\n",
       "      <th>0</th>\n",
       "      <td>.DS_Store</td>\n",
       "      <td>NaN</td>\n",
       "    </tr>\n",
       "    <tr>\n",
       "      <th>1</th>\n",
       "      <td>0003_C.wav</td>\n",
       "      <td>a</td>\n",
       "    </tr>\n",
       "    <tr>\n",
       "      <th>2</th>\n",
       "      <td>0004_Ab.wav</td>\n",
       "      <td>A</td>\n",
       "    </tr>\n",
       "    <tr>\n",
       "      <th>3</th>\n",
       "      <td>0006_C.wav</td>\n",
       "      <td>C</td>\n",
       "    </tr>\n",
       "    <tr>\n",
       "      <th>4</th>\n",
       "      <td>0015_Eb.wav</td>\n",
       "      <td>D#/Eb</td>\n",
       "    </tr>\n",
       "    <tr>\n",
       "      <th>...</th>\n",
       "      <td>...</td>\n",
       "      <td>...</td>\n",
       "    </tr>\n",
       "    <tr>\n",
       "      <th>326</th>\n",
       "      <td>reggae.00095.au</td>\n",
       "      <td>C</td>\n",
       "    </tr>\n",
       "    <tr>\n",
       "      <th>327</th>\n",
       "      <td>reggae.00096.au</td>\n",
       "      <td>f</td>\n",
       "    </tr>\n",
       "    <tr>\n",
       "      <th>328</th>\n",
       "      <td>reggae.00097.au</td>\n",
       "      <td>a</td>\n",
       "    </tr>\n",
       "    <tr>\n",
       "      <th>329</th>\n",
       "      <td>reggae.00098.au</td>\n",
       "      <td>c</td>\n",
       "    </tr>\n",
       "    <tr>\n",
       "      <th>330</th>\n",
       "      <td>reggae.00099.au</td>\n",
       "      <td>a</td>\n",
       "    </tr>\n",
       "  </tbody>\n",
       "</table>\n",
       "<p>331 rows × 2 columns</p>\n",
       "</div>"
      ],
      "text/plain": [
       "                   0      1\n",
       "0          .DS_Store    NaN\n",
       "1         0003_C.wav      a\n",
       "2        0004_Ab.wav      A\n",
       "3         0006_C.wav      C\n",
       "4        0015_Eb.wav  D#/Eb\n",
       "..               ...    ...\n",
       "326  reggae.00095.au      C\n",
       "327  reggae.00096.au      f\n",
       "328  reggae.00097.au      a\n",
       "329  reggae.00098.au      c\n",
       "330  reggae.00099.au      a\n",
       "\n",
       "[331 rows x 2 columns]"
      ]
     },
     "execution_count": 50,
     "metadata": {},
     "output_type": "execute_result"
    }
   ],
   "source": [
    "guessedKey = pd.DataFrame(keys.items()) # create dataframe using dictionary from function above\n",
    "guessedKey = guessedKey.sort_values(0, ignore_index = True) # sort values and reindex\n",
    "guessedKey"
   ]
  },
  {
   "cell_type": "code",
   "execution_count": 54,
   "id": "33544a50",
   "metadata": {},
   "outputs": [
    {
     "data": {
      "text/html": [
       "<div>\n",
       "<style scoped>\n",
       "    .dataframe tbody tr th:only-of-type {\n",
       "        vertical-align: middle;\n",
       "    }\n",
       "\n",
       "    .dataframe tbody tr th {\n",
       "        vertical-align: top;\n",
       "    }\n",
       "\n",
       "    .dataframe thead th {\n",
       "        text-align: right;\n",
       "    }\n",
       "</style>\n",
       "<table border=\"1\" class=\"dataframe\">\n",
       "  <thead>\n",
       "    <tr style=\"text-align: right;\">\n",
       "      <th></th>\n",
       "      <th>Title</th>\n",
       "      <th>Composer</th>\n",
       "      <th>Date</th>\n",
       "      <th>Type</th>\n",
       "      <th>Unnamed: 4</th>\n",
       "      <th>Key</th>\n",
       "      <th>Source</th>\n",
       "      <th>Genre</th>\n",
       "      <th>SubGenre</th>\n",
       "      <th>Instrumentation</th>\n",
       "      <th>.MID</th>\n",
       "      <th>mid to wav?</th>\n",
       "      <th>Audio</th>\n",
       "    </tr>\n",
       "  </thead>\n",
       "  <tbody>\n",
       "    <tr>\n",
       "      <th>0</th>\n",
       "      <td>0003_C.wav</td>\n",
       "      <td>NaN</td>\n",
       "      <td>NaN</td>\n",
       "      <td>NaN</td>\n",
       "      <td>NaN</td>\n",
       "      <td>C</td>\n",
       "      <td>Billboard</td>\n",
       "      <td>Popular</td>\n",
       "      <td>NaN</td>\n",
       "      <td>NaN</td>\n",
       "      <td>False</td>\n",
       "      <td>NaN</td>\n",
       "      <td>.wav</td>\n",
       "    </tr>\n",
       "    <tr>\n",
       "      <th>1</th>\n",
       "      <td>0004_Ab.wav</td>\n",
       "      <td>NaN</td>\n",
       "      <td>NaN</td>\n",
       "      <td>NaN</td>\n",
       "      <td>NaN</td>\n",
       "      <td>Ab</td>\n",
       "      <td>Billboard</td>\n",
       "      <td>Popular</td>\n",
       "      <td>NaN</td>\n",
       "      <td>NaN</td>\n",
       "      <td>False</td>\n",
       "      <td>NaN</td>\n",
       "      <td>.wav</td>\n",
       "    </tr>\n",
       "    <tr>\n",
       "      <th>2</th>\n",
       "      <td>0006_C.wav</td>\n",
       "      <td>NaN</td>\n",
       "      <td>NaN</td>\n",
       "      <td>NaN</td>\n",
       "      <td>NaN</td>\n",
       "      <td>C</td>\n",
       "      <td>Billboard</td>\n",
       "      <td>Popular</td>\n",
       "      <td>NaN</td>\n",
       "      <td>NaN</td>\n",
       "      <td>False</td>\n",
       "      <td>NaN</td>\n",
       "      <td>.wav</td>\n",
       "    </tr>\n",
       "    <tr>\n",
       "      <th>3</th>\n",
       "      <td>0015_Eb.wav</td>\n",
       "      <td>NaN</td>\n",
       "      <td>NaN</td>\n",
       "      <td>NaN</td>\n",
       "      <td>NaN</td>\n",
       "      <td>Eb</td>\n",
       "      <td>Billboard</td>\n",
       "      <td>Popular</td>\n",
       "      <td>NaN</td>\n",
       "      <td>NaN</td>\n",
       "      <td>False</td>\n",
       "      <td>NaN</td>\n",
       "      <td>.wav</td>\n",
       "    </tr>\n",
       "    <tr>\n",
       "      <th>4</th>\n",
       "      <td>0016_a.wav</td>\n",
       "      <td>NaN</td>\n",
       "      <td>NaN</td>\n",
       "      <td>NaN</td>\n",
       "      <td>NaN</td>\n",
       "      <td>a</td>\n",
       "      <td>Billboard</td>\n",
       "      <td>Popular</td>\n",
       "      <td>NaN</td>\n",
       "      <td>NaN</td>\n",
       "      <td>False</td>\n",
       "      <td>NaN</td>\n",
       "      <td>.wav</td>\n",
       "    </tr>\n",
       "    <tr>\n",
       "      <th>...</th>\n",
       "      <td>...</td>\n",
       "      <td>...</td>\n",
       "      <td>...</td>\n",
       "      <td>...</td>\n",
       "      <td>...</td>\n",
       "      <td>...</td>\n",
       "      <td>...</td>\n",
       "      <td>...</td>\n",
       "      <td>...</td>\n",
       "      <td>...</td>\n",
       "      <td>...</td>\n",
       "      <td>...</td>\n",
       "      <td>...</td>\n",
       "    </tr>\n",
       "    <tr>\n",
       "      <th>325</th>\n",
       "      <td>reggae.00095.li.txt</td>\n",
       "      <td>NaN</td>\n",
       "      <td>NaN</td>\n",
       "      <td>NaN</td>\n",
       "      <td>NaN</td>\n",
       "      <td>C</td>\n",
       "      <td>GTZAN</td>\n",
       "      <td>Popular</td>\n",
       "      <td>NaN</td>\n",
       "      <td>NaN</td>\n",
       "      <td>NaN</td>\n",
       "      <td>NaN</td>\n",
       "      <td>NaN</td>\n",
       "    </tr>\n",
       "    <tr>\n",
       "      <th>326</th>\n",
       "      <td>reggae.00096.li.txt</td>\n",
       "      <td>NaN</td>\n",
       "      <td>NaN</td>\n",
       "      <td>NaN</td>\n",
       "      <td>NaN</td>\n",
       "      <td>C</td>\n",
       "      <td>GTZAN</td>\n",
       "      <td>Popular</td>\n",
       "      <td>NaN</td>\n",
       "      <td>NaN</td>\n",
       "      <td>NaN</td>\n",
       "      <td>NaN</td>\n",
       "      <td>NaN</td>\n",
       "    </tr>\n",
       "    <tr>\n",
       "      <th>327</th>\n",
       "      <td>reggae.00097.li.txt</td>\n",
       "      <td>NaN</td>\n",
       "      <td>NaN</td>\n",
       "      <td>NaN</td>\n",
       "      <td>NaN</td>\n",
       "      <td>F</td>\n",
       "      <td>GTZAN</td>\n",
       "      <td>Popular</td>\n",
       "      <td>NaN</td>\n",
       "      <td>NaN</td>\n",
       "      <td>NaN</td>\n",
       "      <td>NaN</td>\n",
       "      <td>NaN</td>\n",
       "    </tr>\n",
       "    <tr>\n",
       "      <th>328</th>\n",
       "      <td>reggae.00098.li.txt</td>\n",
       "      <td>NaN</td>\n",
       "      <td>NaN</td>\n",
       "      <td>NaN</td>\n",
       "      <td>NaN</td>\n",
       "      <td>c</td>\n",
       "      <td>GTZAN</td>\n",
       "      <td>Popular</td>\n",
       "      <td>NaN</td>\n",
       "      <td>NaN</td>\n",
       "      <td>NaN</td>\n",
       "      <td>NaN</td>\n",
       "      <td>NaN</td>\n",
       "    </tr>\n",
       "    <tr>\n",
       "      <th>329</th>\n",
       "      <td>reggae.00099.li.txt</td>\n",
       "      <td>NaN</td>\n",
       "      <td>NaN</td>\n",
       "      <td>NaN</td>\n",
       "      <td>NaN</td>\n",
       "      <td>F</td>\n",
       "      <td>GTZAN</td>\n",
       "      <td>Popular</td>\n",
       "      <td>NaN</td>\n",
       "      <td>NaN</td>\n",
       "      <td>NaN</td>\n",
       "      <td>NaN</td>\n",
       "      <td>NaN</td>\n",
       "    </tr>\n",
       "  </tbody>\n",
       "</table>\n",
       "<p>330 rows × 13 columns</p>\n",
       "</div>"
      ],
      "text/plain": [
       "                   Title Composer  Date Type  Unnamed: 4 Key     Source  \\\n",
       "0             0003_C.wav      NaN   NaN  NaN         NaN   C  Billboard   \n",
       "1            0004_Ab.wav      NaN   NaN  NaN         NaN  Ab  Billboard   \n",
       "2             0006_C.wav      NaN   NaN  NaN         NaN   C  Billboard   \n",
       "3            0015_Eb.wav      NaN   NaN  NaN         NaN  Eb  Billboard   \n",
       "4             0016_a.wav      NaN   NaN  NaN         NaN   a  Billboard   \n",
       "..                   ...      ...   ...  ...         ...  ..        ...   \n",
       "325  reggae.00095.li.txt      NaN   NaN  NaN         NaN   C      GTZAN   \n",
       "326  reggae.00096.li.txt      NaN   NaN  NaN         NaN   C      GTZAN   \n",
       "327  reggae.00097.li.txt      NaN   NaN  NaN         NaN   F      GTZAN   \n",
       "328  reggae.00098.li.txt      NaN   NaN  NaN         NaN   c      GTZAN   \n",
       "329  reggae.00099.li.txt      NaN   NaN  NaN         NaN   F      GTZAN   \n",
       "\n",
       "       Genre SubGenre Instrumentation   .MID  mid to wav? Audio  \n",
       "0    Popular      NaN             NaN  False          NaN  .wav  \n",
       "1    Popular      NaN             NaN  False          NaN  .wav  \n",
       "2    Popular      NaN             NaN  False          NaN  .wav  \n",
       "3    Popular      NaN             NaN  False          NaN  .wav  \n",
       "4    Popular      NaN             NaN  False          NaN  .wav  \n",
       "..       ...      ...             ...    ...          ...   ...  \n",
       "325  Popular      NaN             NaN    NaN          NaN   NaN  \n",
       "326  Popular      NaN             NaN    NaN          NaN   NaN  \n",
       "327  Popular      NaN             NaN    NaN          NaN   NaN  \n",
       "328  Popular      NaN             NaN    NaN          NaN   NaN  \n",
       "329  Popular      NaN             NaN    NaN          NaN   NaN  \n",
       "\n",
       "[330 rows x 13 columns]"
      ]
     },
     "execution_count": 54,
     "metadata": {},
     "output_type": "execute_result"
    }
   ],
   "source": [
    "base = pd.read_csv('../Keyfinding/keys_corrected.csv') # read csv to compare base key to guessed key\n",
    "base = base.sort_values('Title', ignore_index = True) # sort values and reindex\n",
    "base"
   ]
  },
  {
   "cell_type": "code",
   "execution_count": 55,
   "id": "e0ec6790",
   "metadata": {},
   "outputs": [
    {
     "data": {
      "text/html": [
       "<div>\n",
       "<style scoped>\n",
       "    .dataframe tbody tr th:only-of-type {\n",
       "        vertical-align: middle;\n",
       "    }\n",
       "\n",
       "    .dataframe tbody tr th {\n",
       "        vertical-align: top;\n",
       "    }\n",
       "\n",
       "    .dataframe thead th {\n",
       "        text-align: right;\n",
       "    }\n",
       "</style>\n",
       "<table border=\"1\" class=\"dataframe\">\n",
       "  <thead>\n",
       "    <tr style=\"text-align: right;\">\n",
       "      <th></th>\n",
       "      <th>File name</th>\n",
       "      <th>Guessed File Name</th>\n",
       "      <th>Guessed Key</th>\n",
       "      <th>Base Key</th>\n",
       "    </tr>\n",
       "  </thead>\n",
       "  <tbody>\n",
       "    <tr>\n",
       "      <th>0</th>\n",
       "      <td>0003_C.wav</td>\n",
       "      <td>.DS_Store</td>\n",
       "      <td>NaN</td>\n",
       "      <td>C</td>\n",
       "    </tr>\n",
       "    <tr>\n",
       "      <th>1</th>\n",
       "      <td>0004_Ab.wav</td>\n",
       "      <td>0003_C.wav</td>\n",
       "      <td>a</td>\n",
       "      <td>Ab</td>\n",
       "    </tr>\n",
       "    <tr>\n",
       "      <th>2</th>\n",
       "      <td>0006_C.wav</td>\n",
       "      <td>0004_Ab.wav</td>\n",
       "      <td>A</td>\n",
       "      <td>C</td>\n",
       "    </tr>\n",
       "    <tr>\n",
       "      <th>3</th>\n",
       "      <td>0015_Eb.wav</td>\n",
       "      <td>0006_C.wav</td>\n",
       "      <td>C</td>\n",
       "      <td>Eb</td>\n",
       "    </tr>\n",
       "    <tr>\n",
       "      <th>4</th>\n",
       "      <td>0016_a.wav</td>\n",
       "      <td>0015_Eb.wav</td>\n",
       "      <td>D#/Eb</td>\n",
       "      <td>a</td>\n",
       "    </tr>\n",
       "    <tr>\n",
       "      <th>...</th>\n",
       "      <td>...</td>\n",
       "      <td>...</td>\n",
       "      <td>...</td>\n",
       "      <td>...</td>\n",
       "    </tr>\n",
       "    <tr>\n",
       "      <th>325</th>\n",
       "      <td>reggae.00095.li.txt</td>\n",
       "      <td>reggae.00094.au</td>\n",
       "      <td>D#/Eb</td>\n",
       "      <td>C</td>\n",
       "    </tr>\n",
       "    <tr>\n",
       "      <th>326</th>\n",
       "      <td>reggae.00096.li.txt</td>\n",
       "      <td>reggae.00095.au</td>\n",
       "      <td>C</td>\n",
       "      <td>C</td>\n",
       "    </tr>\n",
       "    <tr>\n",
       "      <th>327</th>\n",
       "      <td>reggae.00097.li.txt</td>\n",
       "      <td>reggae.00096.au</td>\n",
       "      <td>f</td>\n",
       "      <td>F</td>\n",
       "    </tr>\n",
       "    <tr>\n",
       "      <th>328</th>\n",
       "      <td>reggae.00098.li.txt</td>\n",
       "      <td>reggae.00097.au</td>\n",
       "      <td>a</td>\n",
       "      <td>c</td>\n",
       "    </tr>\n",
       "    <tr>\n",
       "      <th>329</th>\n",
       "      <td>reggae.00099.li.txt</td>\n",
       "      <td>reggae.00098.au</td>\n",
       "      <td>c</td>\n",
       "      <td>F</td>\n",
       "    </tr>\n",
       "  </tbody>\n",
       "</table>\n",
       "<p>330 rows × 4 columns</p>\n",
       "</div>"
      ],
      "text/plain": [
       "               File name Guessed File Name Guessed Key Base Key\n",
       "0             0003_C.wav         .DS_Store         NaN        C\n",
       "1            0004_Ab.wav        0003_C.wav           a       Ab\n",
       "2             0006_C.wav       0004_Ab.wav           A        C\n",
       "3            0015_Eb.wav        0006_C.wav           C       Eb\n",
       "4             0016_a.wav       0015_Eb.wav       D#/Eb        a\n",
       "..                   ...               ...         ...      ...\n",
       "325  reggae.00095.li.txt   reggae.00094.au       D#/Eb        C\n",
       "326  reggae.00096.li.txt   reggae.00095.au           C        C\n",
       "327  reggae.00097.li.txt   reggae.00096.au           f        F\n",
       "328  reggae.00098.li.txt   reggae.00097.au           a        c\n",
       "329  reggae.00099.li.txt   reggae.00098.au           c        F\n",
       "\n",
       "[330 rows x 4 columns]"
      ]
     },
     "execution_count": 55,
     "metadata": {},
     "output_type": "execute_result"
    }
   ],
   "source": [
    "compare = pd.DataFrame() # make dataframe\n",
    "compare['File name'] = base['Title'] # take filenames from base case csv file and make a column\n",
    "compare['Guessed File Name'] = guessedKey[0]\n",
    "compare['Guessed Key'] = guessedKey[1] # make column of guessed keys\n",
    "compare['Base Key'] = base['Key'] # make column of base keys\n",
    "compare"
   ]
  },
  {
   "cell_type": "markdown",
   "id": "9f5c2873",
   "metadata": {},
   "source": [
    "## Basic Analysis ##"
   ]
  },
  {
   "cell_type": "code",
   "execution_count": 56,
   "id": "d47b22ac",
   "metadata": {},
   "outputs": [
    {
     "data": {
      "text/html": [
       "<div>\n",
       "<style scoped>\n",
       "    .dataframe tbody tr th:only-of-type {\n",
       "        vertical-align: middle;\n",
       "    }\n",
       "\n",
       "    .dataframe tbody tr th {\n",
       "        vertical-align: top;\n",
       "    }\n",
       "\n",
       "    .dataframe thead th {\n",
       "        text-align: right;\n",
       "    }\n",
       "</style>\n",
       "<table border=\"1\" class=\"dataframe\">\n",
       "  <thead>\n",
       "    <tr style=\"text-align: right;\">\n",
       "      <th></th>\n",
       "      <th>File name</th>\n",
       "      <th>Guessed File Name</th>\n",
       "      <th>Guessed Key</th>\n",
       "      <th>Base Key</th>\n",
       "      <th>Correct Key</th>\n",
       "      <th>Correct Tonic</th>\n",
       "    </tr>\n",
       "  </thead>\n",
       "  <tbody>\n",
       "    <tr>\n",
       "      <th>0</th>\n",
       "      <td>0003_C.wav</td>\n",
       "      <td>.DS_Store</td>\n",
       "      <td>NaN</td>\n",
       "      <td>C</td>\n",
       "      <td>0.0</td>\n",
       "      <td>0.0</td>\n",
       "    </tr>\n",
       "    <tr>\n",
       "      <th>1</th>\n",
       "      <td>0004_Ab.wav</td>\n",
       "      <td>0003_C.wav</td>\n",
       "      <td>a</td>\n",
       "      <td>Ab</td>\n",
       "      <td>0.0</td>\n",
       "      <td>0.0</td>\n",
       "    </tr>\n",
       "    <tr>\n",
       "      <th>2</th>\n",
       "      <td>0006_C.wav</td>\n",
       "      <td>0004_Ab.wav</td>\n",
       "      <td>A</td>\n",
       "      <td>C</td>\n",
       "      <td>0.0</td>\n",
       "      <td>0.0</td>\n",
       "    </tr>\n",
       "    <tr>\n",
       "      <th>3</th>\n",
       "      <td>0015_Eb.wav</td>\n",
       "      <td>0006_C.wav</td>\n",
       "      <td>C</td>\n",
       "      <td>Eb</td>\n",
       "      <td>0.0</td>\n",
       "      <td>0.0</td>\n",
       "    </tr>\n",
       "    <tr>\n",
       "      <th>4</th>\n",
       "      <td>0016_a.wav</td>\n",
       "      <td>0015_Eb.wav</td>\n",
       "      <td>D#/Eb</td>\n",
       "      <td>a</td>\n",
       "      <td>0.0</td>\n",
       "      <td>0.0</td>\n",
       "    </tr>\n",
       "    <tr>\n",
       "      <th>...</th>\n",
       "      <td>...</td>\n",
       "      <td>...</td>\n",
       "      <td>...</td>\n",
       "      <td>...</td>\n",
       "      <td>...</td>\n",
       "      <td>...</td>\n",
       "    </tr>\n",
       "    <tr>\n",
       "      <th>325</th>\n",
       "      <td>reggae.00095.li.txt</td>\n",
       "      <td>reggae.00094.au</td>\n",
       "      <td>D#/Eb</td>\n",
       "      <td>C</td>\n",
       "      <td>0.0</td>\n",
       "      <td>0.0</td>\n",
       "    </tr>\n",
       "    <tr>\n",
       "      <th>326</th>\n",
       "      <td>reggae.00096.li.txt</td>\n",
       "      <td>reggae.00095.au</td>\n",
       "      <td>C</td>\n",
       "      <td>C</td>\n",
       "      <td>1.0</td>\n",
       "      <td>1.0</td>\n",
       "    </tr>\n",
       "    <tr>\n",
       "      <th>327</th>\n",
       "      <td>reggae.00097.li.txt</td>\n",
       "      <td>reggae.00096.au</td>\n",
       "      <td>f</td>\n",
       "      <td>F</td>\n",
       "      <td>0.0</td>\n",
       "      <td>1.0</td>\n",
       "    </tr>\n",
       "    <tr>\n",
       "      <th>328</th>\n",
       "      <td>reggae.00098.li.txt</td>\n",
       "      <td>reggae.00097.au</td>\n",
       "      <td>a</td>\n",
       "      <td>c</td>\n",
       "      <td>0.0</td>\n",
       "      <td>0.0</td>\n",
       "    </tr>\n",
       "    <tr>\n",
       "      <th>329</th>\n",
       "      <td>reggae.00099.li.txt</td>\n",
       "      <td>reggae.00098.au</td>\n",
       "      <td>c</td>\n",
       "      <td>F</td>\n",
       "      <td>0.0</td>\n",
       "      <td>0.0</td>\n",
       "    </tr>\n",
       "  </tbody>\n",
       "</table>\n",
       "<p>330 rows × 6 columns</p>\n",
       "</div>"
      ],
      "text/plain": [
       "               File name Guessed File Name Guessed Key Base Key  Correct Key  \\\n",
       "0             0003_C.wav         .DS_Store         NaN        C          0.0   \n",
       "1            0004_Ab.wav        0003_C.wav           a       Ab          0.0   \n",
       "2             0006_C.wav       0004_Ab.wav           A        C          0.0   \n",
       "3            0015_Eb.wav        0006_C.wav           C       Eb          0.0   \n",
       "4             0016_a.wav       0015_Eb.wav       D#/Eb        a          0.0   \n",
       "..                   ...               ...         ...      ...          ...   \n",
       "325  reggae.00095.li.txt   reggae.00094.au       D#/Eb        C          0.0   \n",
       "326  reggae.00096.li.txt   reggae.00095.au           C        C          1.0   \n",
       "327  reggae.00097.li.txt   reggae.00096.au           f        F          0.0   \n",
       "328  reggae.00098.li.txt   reggae.00097.au           a        c          0.0   \n",
       "329  reggae.00099.li.txt   reggae.00098.au           c        F          0.0   \n",
       "\n",
       "     Correct Tonic  \n",
       "0              0.0  \n",
       "1              0.0  \n",
       "2              0.0  \n",
       "3              0.0  \n",
       "4              0.0  \n",
       "..             ...  \n",
       "325            0.0  \n",
       "326            1.0  \n",
       "327            1.0  \n",
       "328            0.0  \n",
       "329            0.0  \n",
       "\n",
       "[330 rows x 6 columns]"
      ]
     },
     "execution_count": 56,
     "metadata": {},
     "output_type": "execute_result"
    }
   ],
   "source": [
    "# gives simple binary of whether the correct key or correct tonic were guessed\n",
    "comparison_column = np.array([])\n",
    "correct_tonic = np.array([])\n",
    "for i, j in zip(compare['Base Key'], compare['Guessed Key']):\n",
    "    if i in j:\n",
    "        comparison_column = np.append(comparison_column, True) # if key is exact same, append true to comparison array\n",
    "    else:\n",
    "        comparison_column = np.append(comparison_column, False) # if not the exact same, append false\n",
    "    if i.lower() in j.lower():\n",
    "        correct_tonic = np.append(correct_tonic, True) # if correct tonic, append true to comparison array\n",
    "    else:\n",
    "        correct_tonic = np.append(correct_tonic, False) # if completely different append false\n",
    "\n",
    "compare['Correct Key'] = comparison_column\n",
    "compare['Correct Tonic'] = correct_tonic\n",
    "compare"
   ]
  },
  {
   "cell_type": "code",
   "execution_count": 57,
   "id": "491582ca",
   "metadata": {},
   "outputs": [
    {
     "data": {
      "text/html": [
       "<div>\n",
       "<style scoped>\n",
       "    .dataframe tbody tr th:only-of-type {\n",
       "        vertical-align: middle;\n",
       "    }\n",
       "\n",
       "    .dataframe tbody tr th {\n",
       "        vertical-align: top;\n",
       "    }\n",
       "\n",
       "    .dataframe thead th {\n",
       "        text-align: right;\n",
       "    }\n",
       "</style>\n",
       "<table border=\"1\" class=\"dataframe\">\n",
       "  <thead>\n",
       "    <tr style=\"text-align: right;\">\n",
       "      <th></th>\n",
       "      <th>0.0</th>\n",
       "      <th>1.0</th>\n",
       "    </tr>\n",
       "  </thead>\n",
       "  <tbody>\n",
       "    <tr>\n",
       "      <th>Correct Key</th>\n",
       "      <td>267</td>\n",
       "      <td>63</td>\n",
       "    </tr>\n",
       "    <tr>\n",
       "      <th>Correct Tonic</th>\n",
       "      <td>242</td>\n",
       "      <td>88</td>\n",
       "    </tr>\n",
       "  </tbody>\n",
       "</table>\n",
       "</div>"
      ],
      "text/plain": [
       "               0.0  1.0\n",
       "Correct Key    267   63\n",
       "Correct Tonic  242   88"
      ]
     },
     "execution_count": 57,
     "metadata": {},
     "output_type": "execute_result"
    }
   ],
   "source": [
    "counts = compare['Correct Key'].value_counts(), compare['Correct Tonic'].value_counts()\n",
    "pd.DataFrame(counts)"
   ]
  },
  {
   "cell_type": "markdown",
   "id": "0c2226dc",
   "metadata": {},
   "source": [
    "## In Depth Analysis ##"
   ]
  },
  {
   "cell_type": "code",
   "execution_count": 59,
   "id": "2cab22a5",
   "metadata": {},
   "outputs": [
    {
     "ename": "KeyError",
     "evalue": "'NaN'",
     "output_type": "error",
     "traceback": [
      "\u001b[0;31m---------------------------------------------------------------------------\u001b[0m",
      "\u001b[0;31mKeyError\u001b[0m                                  Traceback (most recent call last)",
      "\u001b[0;32m/var/folders/b5/3l92j93d5t1__l78tfntmwyr0000gn/T/ipykernel_19409/172217841.py\u001b[0m in \u001b[0;36m<module>\u001b[0;34m\u001b[0m\n\u001b[1;32m     24\u001b[0m \u001b[0mkeysig_score\u001b[0m \u001b[0;34m=\u001b[0m \u001b[0mnp\u001b[0m\u001b[0;34m.\u001b[0m\u001b[0marray\u001b[0m\u001b[0;34m(\u001b[0m\u001b[0;34m[\u001b[0m\u001b[0;34m]\u001b[0m\u001b[0;34m)\u001b[0m \u001b[0;31m# array of key scores\u001b[0m\u001b[0;34m\u001b[0m\u001b[0;34m\u001b[0m\u001b[0m\n\u001b[1;32m     25\u001b[0m \u001b[0;32mfor\u001b[0m \u001b[0mi\u001b[0m\u001b[0;34m,\u001b[0m \u001b[0mj\u001b[0m \u001b[0;32min\u001b[0m \u001b[0mzip\u001b[0m\u001b[0;34m(\u001b[0m\u001b[0mcompare\u001b[0m\u001b[0;34m[\u001b[0m\u001b[0;34m'Base Key'\u001b[0m\u001b[0;34m]\u001b[0m\u001b[0;34m,\u001b[0m \u001b[0mcompare\u001b[0m\u001b[0;34m[\u001b[0m\u001b[0;34m'Guessed Key'\u001b[0m\u001b[0;34m]\u001b[0m\u001b[0;34m)\u001b[0m\u001b[0;34m:\u001b[0m \u001b[0;31m# iterate through guessed keys and base keys\u001b[0m\u001b[0;34m\u001b[0m\u001b[0;34m\u001b[0m\u001b[0m\n\u001b[0;32m---> 26\u001b[0;31m     \u001b[0mtemp\u001b[0m \u001b[0;34m=\u001b[0m \u001b[0mabs\u001b[0m\u001b[0;34m(\u001b[0m\u001b[0mletterToCircFifths\u001b[0m\u001b[0;34m[\u001b[0m\u001b[0mi\u001b[0m\u001b[0;34m]\u001b[0m \u001b[0;34m-\u001b[0m \u001b[0mletterToCircFifths\u001b[0m\u001b[0;34m[\u001b[0m\u001b[0mj\u001b[0m\u001b[0;34m]\u001b[0m\u001b[0;34m)\u001b[0m \u001b[0;31m# find difference between guessed and base keys on CoF\u001b[0m\u001b[0;34m\u001b[0m\u001b[0;34m\u001b[0m\u001b[0m\n\u001b[0m\u001b[1;32m     27\u001b[0m     \u001b[0mdiff\u001b[0m \u001b[0;34m=\u001b[0m \u001b[0mmin\u001b[0m\u001b[0;34m(\u001b[0m\u001b[0mtemp\u001b[0m\u001b[0;34m,\u001b[0m \u001b[0;36m12\u001b[0m\u001b[0;34m-\u001b[0m\u001b[0mtemp\u001b[0m\u001b[0;34m)\u001b[0m \u001b[0;31m# gets minimum difference in both directions on CoF\u001b[0m\u001b[0;34m\u001b[0m\u001b[0;34m\u001b[0m\u001b[0m\n\u001b[1;32m     28\u001b[0m     \u001b[0mscore\u001b[0m \u001b[0;34m=\u001b[0m \u001b[0;36m0\u001b[0m\u001b[0;34m\u001b[0m\u001b[0;34m\u001b[0m\u001b[0m\n",
      "\u001b[0;31mKeyError\u001b[0m: 'NaN'"
     ]
    }
   ],
   "source": [
    "# score based on difference in key signatures and correct tonic\n",
    "# ----\n",
    "# correct key with tonic = 1pt\n",
    "# relative major/minor = 0.8pt\n",
    "# key signature 5th away = 0.66pt \n",
    "# correct tonic only = 0.5pt\n",
    "\n",
    "# dictionary below assigns a number to a Key based on its position in the circle of fifths\n",
    "letterToCircFifths = {\n",
    "    \"C\":0, \"a\":0,\n",
    "    \"G\":1, \"e\":1,\n",
    "    \"D\":2, \"b\":2,\n",
    "    \"A\":3, \"f#/gb\":3, \"f#\":3, \"gb\":3,\n",
    "    \"E\":4, \"c#/db\":4, \"c#\":4, \"db\":4,\n",
    "    \"B\":5, \"g#/ab\":5, \"g#\":5, \"ab\":5,\n",
    "    \"F#/Gb\":6, \"d#/eb\":6, \"F#\":6, \"Gb\":6, \"d#\":6, \"eb\":6,\n",
    "    \"C#/Db\":7, \"a#/bb\":7, \"C#\":7, \"Db\":7, \"a#\":7, \"bb\":7,\n",
    "    \"G#/Ab\":8, \"f\":8, \"G#\":8, \"Ab\":8,\n",
    "    \"D#/Eb\":9, \"c\":9, \"D#\":9, \"Eb\":9,\n",
    "    \"A#/Bb\":10, \"g\":10, \"A#\":10, \"Bb\":10,\n",
    "    \"F\":11, \"d\":11\n",
    "}\n",
    "# Circle of Fifths = CoF\n",
    "keysig_score = np.array([]) # array of key scores\n",
    "for i, j in zip(compare['Base Key'], compare['Guessed Key']): # iterate through guessed keys and base keys\n",
    "    temp = abs(letterToCircFifths[i] - letterToCircFifths[j]) # find difference between guessed and base keys on CoF\n",
    "    diff = min(temp, 12-temp) # gets minimum difference in both directions on CoF                                \n",
    "    score = 0                  \n",
    "    if diff == 0: # if CoF position is the same\n",
    "        if i.lower() in j.lower():\n",
    "            score = 1 # if same exact key, score = 1\n",
    "        else:\n",
    "            score = 0.8 # if relative major/minor, score = .8\n",
    "    elif diff == 1:\n",
    "        score = 0.66 # if difference in accidentals is only 1, \n",
    "    elif i.lower() in j.lower():\n",
    "        score = 0.5 # if correct tonic but wrong major/minor quality, score = .5\n",
    "    # every other difference number is given a key signature score of 0\n",
    "    keysig_score = np.append(keysig_score, score)\n",
    "\n",
    "compare['Key Signature Score'] = keysig_score\n",
    "compare"
   ]
  },
  {
   "cell_type": "code",
   "execution_count": 41,
   "id": "4a53b38b",
   "metadata": {},
   "outputs": [
    {
     "name": "stdout",
     "output_type": "stream",
     "text": [
      "Key Signature Score Accuracy: 0.5325454545454545\n"
     ]
    },
    {
     "data": {
      "text/html": [
       "<div>\n",
       "<style scoped>\n",
       "    .dataframe tbody tr th:only-of-type {\n",
       "        vertical-align: middle;\n",
       "    }\n",
       "\n",
       "    .dataframe tbody tr th {\n",
       "        vertical-align: top;\n",
       "    }\n",
       "\n",
       "    .dataframe thead th {\n",
       "        text-align: right;\n",
       "    }\n",
       "</style>\n",
       "<table border=\"1\" class=\"dataframe\">\n",
       "  <thead>\n",
       "    <tr style=\"text-align: right;\">\n",
       "      <th></th>\n",
       "      <th>Counts</th>\n",
       "      <th>% of total</th>\n",
       "    </tr>\n",
       "  </thead>\n",
       "  <tbody>\n",
       "    <tr>\n",
       "      <th>1.00</th>\n",
       "      <td>96</td>\n",
       "      <td>29.1</td>\n",
       "    </tr>\n",
       "    <tr>\n",
       "      <th>0.80</th>\n",
       "      <td>12</td>\n",
       "      <td>3.6</td>\n",
       "    </tr>\n",
       "    <tr>\n",
       "      <th>0.66</th>\n",
       "      <td>79</td>\n",
       "      <td>23.9</td>\n",
       "    </tr>\n",
       "    <tr>\n",
       "      <th>0.50</th>\n",
       "      <td>36</td>\n",
       "      <td>10.9</td>\n",
       "    </tr>\n",
       "    <tr>\n",
       "      <th>0.00</th>\n",
       "      <td>107</td>\n",
       "      <td>32.4</td>\n",
       "    </tr>\n",
       "  </tbody>\n",
       "</table>\n",
       "</div>"
      ],
      "text/plain": [
       "      Counts  % of total\n",
       "1.00      96        29.1\n",
       "0.80      12         3.6\n",
       "0.66      79        23.9\n",
       "0.50      36        10.9\n",
       "0.00     107        32.4"
      ]
     },
     "execution_count": 41,
     "metadata": {},
     "output_type": "execute_result"
    }
   ],
   "source": [
    "print(\"Key Signature Score Accuracy:\", str(np.sum(keysig_score)/keysig_score.size)) # print average key score accuracy\n",
    "keySigScoreCounts = compare['Key Signature Score'].value_counts() # counts of each key score value\n",
    "keySigScoreStats = pd.DataFrame()\n",
    "keySigScoreStats['Counts'] = keySigScoreCounts\n",
    "# line below gets percent of occurence of each key score value\n",
    "keySigScoreStats[\"% of total\"] = (100*keySigScoreStats['Counts']/keySigScoreStats['Counts'].sum()).round(decimals=1)\n",
    "keySigScoreStats.sort_index(ascending=False)\n"
   ]
  },
  {
   "cell_type": "code",
   "execution_count": null,
   "id": "969d8435",
   "metadata": {},
   "outputs": [],
   "source": [
    "x, fsx = lb.load('../Keyfinding/KeyFinding_Audio/Audio/', sr=22050)"
   ]
  }
 ],
 "metadata": {
  "kernelspec": {
   "display_name": "Python 3 (ipykernel)",
   "language": "python",
   "name": "python3"
  },
  "language_info": {
   "codemirror_mode": {
    "name": "ipython",
    "version": 3
   },
   "file_extension": ".py",
   "mimetype": "text/x-python",
   "name": "python",
   "nbconvert_exporter": "python",
   "pygments_lexer": "ipython3",
   "version": "3.9.9"
  }
 },
 "nbformat": 4,
 "nbformat_minor": 5
}
